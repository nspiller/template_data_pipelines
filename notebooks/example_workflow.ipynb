{
 "cells": [
  {
   "cell_type": "code",
   "execution_count": null,
   "id": "7f0d30d7",
   "metadata": {},
   "outputs": [],
   "source": [
    "import numpy as np\n",
    "from src import computations, plotting"
   ]
  },
  {
   "cell_type": "markdown",
   "id": "f26c2ddd",
   "metadata": {},
   "source": [
    "# Example 1\n",
    "Here we can explain that we are\n",
    "1. generating an array of random numbers using `numpy`\n",
    "2. calculating the mean using our custom code in the `src` module"
   ]
  },
  {
   "cell_type": "code",
   "execution_count": null,
   "id": "2ef311c7",
   "metadata": {},
   "outputs": [],
   "source": [
    "# Generate data\n",
    "data = []\n",
    "for _ in range(10000):\n",
    "    arr = np.random.rand(10)\n",
    "    value = computations.compute_mean(arr)\n",
    "    data.append(value)"
   ]
  },
  {
   "cell_type": "markdown",
   "id": "e534715c",
   "metadata": {},
   "source": [
    "Next, we plot the data.\n",
    "The plot is visible when we run the script file cell-by-cell or as a Jupyter notebook.\n",
    "We could also run the entire script file top to bottom and save the plot to a file."
   ]
  },
  {
   "cell_type": "code",
   "execution_count": null,
   "id": "781568e8",
   "metadata": {},
   "outputs": [],
   "source": [
    "fig, ax = plotting.plot_distribution(data)\n",
    "# fig.savefig(\"/some/other/folder/plot.png\")"
   ]
  }
 ],
 "metadata": {
  "jupytext": {
   "cell_metadata_filter": "-all",
   "custom_cell_magics": "kql"
  },
  "kernelspec": {
   "display_name": "template",
   "language": "python",
   "name": "python3"
  },
  "language_info": {
   "codemirror_mode": {
    "name": "ipython",
    "version": 3
   },
   "file_extension": ".py",
   "mimetype": "text/x-python",
   "name": "python",
   "nbconvert_exporter": "python",
   "pygments_lexer": "ipython3",
   "version": "3.8.18"
  }
 },
 "nbformat": 4,
 "nbformat_minor": 5
}
